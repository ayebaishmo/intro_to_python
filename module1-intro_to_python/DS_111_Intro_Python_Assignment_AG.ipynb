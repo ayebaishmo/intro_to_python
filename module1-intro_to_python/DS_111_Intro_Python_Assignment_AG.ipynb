{
  "cells": [
    {
      "cell_type": "markdown",
      "id": "d36817b6",
      "metadata": {
        "deletable": false,
        "editable": false,
        "id": "d36817b6",
        "nbgrader": {
          "cell_type": "markdown",
          "checksum": "c0522dcce6a20ae4add6f69c2e7e6ef0",
          "grade": false,
          "grade_id": "cell-b0b49f9f926867f8",
          "locked": true,
          "schema_version": 3,
          "solution": false,
          "task": false
        }
      },
      "source": [
        "## Autograded Notebook (Canvas & CodeGrade)\n",
        "\n",
        "This notebook will be automatically graded. It is designed to test your answers and award points for the correct answers. Following the instructions for each Task carefully.\n",
        "\n",
        "### Instructions\n",
        "\n",
        "* **Download this notebook** as you would any other ipynb file\n",
        "* **Upload** to Google Colab or work locally (if you have that set-up)\n",
        "* **Delete `raise NotImplementedError()`**\n",
        "* Write your code in the `# YOUR CODE HERE` space\n",
        "* **Execute** the Test cells that contain `assert` statements - these help you check your work (others contain hidden tests that will be checked when you submit through Canvas)\n",
        "* **Save** your notebook when you are finished\n",
        "* **Download** as a `ipynb` file (if working in Colab)\n",
        "* **Upload** your complete notebook to Canvas (there will be additional instructions in Slack and/or Canvas)"
      ]
    },
    {
      "cell_type": "markdown",
      "id": "874b74af",
      "metadata": {
        "deletable": false,
        "editable": false,
        "id": "874b74af",
        "nbgrader": {
          "cell_type": "markdown",
          "checksum": "84d6264b7e02b24288e45cad674f97d3",
          "grade": false,
          "grade_id": "cell-66dc43d1b92d4f06",
          "locked": true,
          "schema_version": 3,
          "solution": false,
          "task": false
        }
      },
      "source": [
        "# Unit 1 Sprint 1 Module 1\n",
        "\n",
        "## Introduction to Python\n",
        "\n",
        "### Objectives\n",
        "\n",
        "* Create and work with variable data types\n",
        "* Understand indexing and methods\n",
        "* Practice dictionary indexing\n",
        "\n",
        "#### Total notebook points: 8"
      ]
    },
    {
      "cell_type": "markdown",
      "id": "434746fa",
      "metadata": {
        "deletable": false,
        "editable": false,
        "id": "434746fa",
        "nbgrader": {
          "cell_type": "markdown",
          "checksum": "a7573ad7f69d885113256176fb514238",
          "grade": false,
          "grade_id": "cell-477ac2a8dcaa6e20",
          "locked": true,
          "schema_version": 3,
          "solution": false,
          "task": false
        }
      },
      "source": [
        "## Autograded Module Projects\n",
        "\n",
        "Welcome to the first Module Project of Unit 1! You will complete a project (sometimes also referred to as an assignment) after the Guided Project for each Module. There will be four Module Projects per Sprint and each project is designed to provide you with an opportunity to practice what you learned in the Canvas Warm-up material and the Guided Project with your instructors.\n",
        "\n",
        "Throughout Unit 1, the Module Projects and the Sprint Challenges are *autograded*. You will complete your work in a Jupyter/Python notebook (the files that end with `.ipynb`) and then upload your completed notebook to Canvas and submit for grading. This autograding process will check your answers and provide more information about the errors in your notebook. You'll receive a score when the testing is complete.\n",
        "\n",
        "So, let's get started! If you are reading this notebook, then you have the correct autograded version."
      ]
    },
    {
      "cell_type": "markdown",
      "id": "7966e0d4",
      "metadata": {
        "deletable": false,
        "editable": false,
        "id": "7966e0d4",
        "nbgrader": {
          "cell_type": "markdown",
          "checksum": "ed4860f54f5f2fc7650e44b9f220dbeb",
          "grade": false,
          "grade_id": "cell-764a88ab7278a115",
          "locked": true,
          "schema_version": 3,
          "solution": false,
          "task": false
        }
      },
      "source": [
        "**Task 1** - Write Your Name\n",
        "\n",
        "Create a variable called `your_name` that includes your name."
      ]
    },
    {
      "cell_type": "code",
      "execution_count": 1,
      "id": "a85cd6b8",
      "metadata": {
        "deletable": false,
        "id": "a85cd6b8",
        "nbgrader": {
          "cell_type": "code",
          "checksum": "39843a8ffd66aa62906d97ba3d3ab0fd",
          "grade": false,
          "grade_id": "cell-6027a63ecafcefab",
          "locked": false,
          "schema_version": 3,
          "solution": true,
          "task": false
        }
      },
      "outputs": [],
      "source": [
        "# YOUR CODE HERE\n",
        "your_name = \"Ayebazibwe Ishmael\""
      ]
    },
    {
      "cell_type": "markdown",
      "id": "129e5551",
      "metadata": {
        "deletable": false,
        "editable": false,
        "id": "129e5551",
        "nbgrader": {
          "cell_type": "markdown",
          "checksum": "30fc304c05a2cadd993f46e7ca0f530a",
          "grade": false,
          "grade_id": "cell-623ce549dfd615a0",
          "locked": true,
          "schema_version": 3,
          "solution": false,
          "task": false
        }
      },
      "source": [
        "**Task 1 Test**"
      ]
    },
    {
      "cell_type": "code",
      "execution_count": 2,
      "id": "22cd112e",
      "metadata": {
        "deletable": false,
        "editable": false,
        "id": "22cd112e",
        "nbgrader": {
          "cell_type": "code",
          "checksum": "91ca3343970e917aead9f7bd97fd7bff",
          "grade": true,
          "grade_id": "cell-a6c4f852066437b1",
          "locked": true,
          "points": 1,
          "schema_version": 3,
          "solution": false,
          "task": false
        }
      },
      "outputs": [
        {
          "name": "stdout",
          "output_type": "stream",
          "text": [
            "Hello Ayebazibwe Ishmael\n"
          ]
        }
      ],
      "source": [
        "#Task 1 - Test\n",
        "assert isinstance(your_name, str)\n",
        "print(\"Hello\", your_name )\n",
        "\n",
        "\n"
      ]
    },
    {
      "cell_type": "markdown",
      "id": "9ed2a26e",
      "metadata": {
        "deletable": false,
        "editable": false,
        "id": "9ed2a26e",
        "nbgrader": {
          "cell_type": "markdown",
          "checksum": "42001a3ead56c42598be9ba0c5f05cf7",
          "grade": false,
          "grade_id": "cell-00178f4254ca81ed",
          "locked": true,
          "schema_version": 3,
          "solution": false,
          "task": false
        }
      },
      "source": [
        "**Task 2** - Variable data types\n",
        "\n",
        "* Assign the number `10` to a variable called `first_num`\n",
        "* Assign the number `5` to a variable called `second_num`\n",
        "* Assign the number `2` to a variable called `num_two`"
      ]
    },
    {
      "cell_type": "code",
      "execution_count": 3,
      "id": "296a3b85",
      "metadata": {
        "deletable": false,
        "id": "296a3b85",
        "nbgrader": {
          "cell_type": "code",
          "checksum": "9fda63e86976f82a5d18a2047ab86ddf",
          "grade": false,
          "grade_id": "cell-e96ddb74e7505094",
          "locked": false,
          "schema_version": 3,
          "solution": true,
          "task": false
        }
      },
      "outputs": [],
      "source": [
        "# YOUR CODE HERE\n",
        "first_num = 10\n",
        "second_num = 5\n",
        "num_two = 2"
      ]
    },
    {
      "cell_type": "markdown",
      "id": "aa040adc",
      "metadata": {
        "deletable": false,
        "editable": false,
        "id": "aa040adc",
        "nbgrader": {
          "cell_type": "markdown",
          "checksum": "de0a0ee3a532fd217abcbc38fd76cbd1",
          "grade": false,
          "grade_id": "cell-b103f366a3400307",
          "locked": true,
          "schema_version": 3,
          "solution": false,
          "task": false
        }
      },
      "source": [
        "**Task 2 Test**"
      ]
    },
    {
      "cell_type": "code",
      "execution_count": null,
      "id": "642c27f2",
      "metadata": {
        "deletable": false,
        "editable": false,
        "id": "642c27f2",
        "nbgrader": {
          "cell_type": "code",
          "checksum": "1daf51db8422edc9a0fa67dd88f3cfa9",
          "grade": true,
          "grade_id": "cell-a33f13464286f445",
          "locked": true,
          "points": 1,
          "schema_version": 3,
          "solution": false,
          "task": false
        }
      },
      "outputs": [],
      "source": [
        "#Task 2 - Test\n",
        "# Hidden tests - you will see the results when you submit to Canvas"
      ]
    },
    {
      "cell_type": "markdown",
      "id": "03f87c19",
      "metadata": {
        "deletable": false,
        "editable": false,
        "id": "03f87c19",
        "nbgrader": {
          "cell_type": "markdown",
          "checksum": "5d37a1095dfb991dc98b31d130b3d8f2",
          "grade": false,
          "grade_id": "cell-f534c68a18f9681b",
          "locked": true,
          "schema_version": 3,
          "solution": false,
          "task": false
        }
      },
      "source": [
        "**Task 3** - Operators\n",
        "* Return the product of all three variables created in the task above. Assign it to an object called `product_total`.\n",
        "* Return the floor division of `product_total` by 7. Assign it **as an interger** to an object called `floor_value`."
      ]
    },
    {
      "cell_type": "code",
      "execution_count": 4,
      "id": "77410d59",
      "metadata": {
        "deletable": false,
        "id": "77410d59",
        "nbgrader": {
          "cell_type": "code",
          "checksum": "773399d1dd892cd814aef953251958da",
          "grade": false,
          "grade_id": "cell-311e511f461035fc",
          "locked": false,
          "schema_version": 3,
          "solution": true,
          "task": false
        }
      },
      "outputs": [],
      "source": [
        "# YOUR CODE HERE\n",
        "product_total = first_num * second_num * num_two"
      ]
    },
    {
      "cell_type": "markdown",
      "id": "7d022078",
      "metadata": {
        "deletable": false,
        "editable": false,
        "id": "7d022078",
        "nbgrader": {
          "cell_type": "markdown",
          "checksum": "14b9f99e17b9b210d2535f4e6f51c99b",
          "grade": false,
          "grade_id": "cell-eb58990e2b60db57",
          "locked": true,
          "schema_version": 3,
          "solution": false,
          "task": false
        }
      },
      "source": [
        "**Task 3 Test**"
      ]
    },
    {
      "cell_type": "code",
      "execution_count": 5,
      "id": "a5458ddb",
      "metadata": {
        "deletable": false,
        "editable": false,
        "id": "a5458ddb",
        "nbgrader": {
          "cell_type": "code",
          "checksum": "a65888afc319f35963b9cddb3ecd0602",
          "grade": true,
          "grade_id": "cell-c96d884a0d9c28fe",
          "locked": true,
          "points": 1,
          "schema_version": 3,
          "solution": false,
          "task": false
        }
      },
      "outputs": [],
      "source": [
        "#Task 3 Test\n",
        "\n",
        "assert product_total == 100, \"Check your operators.\"\n",
        "\n",
        "# Hidden tests - you will see the results when you submit to Canvas\n"
      ]
    },
    {
      "cell_type": "markdown",
      "id": "b2004de1",
      "metadata": {
        "deletable": false,
        "editable": false,
        "id": "b2004de1",
        "nbgrader": {
          "cell_type": "markdown",
          "checksum": "ddc9059b0ea4224d18abdfdd517cc6a3",
          "grade": false,
          "grade_id": "cell-b7322a77f8499b57",
          "locked": true,
          "schema_version": 3,
          "solution": false,
          "task": false
        }
      },
      "source": [
        "**Task 4a** Python Data Types\n",
        "* Create a list of five objects: `red`, `green`, `blue`, `yellow`, `purple`. Assign this list **in alphabetical order** to an object called `five_colors`.  \n"
      ]
    },
    {
      "cell_type": "code",
      "execution_count": 18,
      "id": "d86312ee",
      "metadata": {
        "deletable": false,
        "id": "d86312ee",
        "nbgrader": {
          "cell_type": "code",
          "checksum": "f6eb23109523a083eeed8ac7c6c3c11b",
          "grade": false,
          "grade_id": "cell-32200b8130c2bd81",
          "locked": false,
          "schema_version": 3,
          "solution": true,
          "task": false
        }
      },
      "outputs": [],
      "source": [
        "# YOUR CODE HERE\n",
        "five_colors = ['blue', 'green', 'red', 'purple', 'yellow']"
      ]
    },
    {
      "cell_type": "markdown",
      "id": "9838246a",
      "metadata": {
        "deletable": false,
        "editable": false,
        "id": "9838246a",
        "nbgrader": {
          "cell_type": "markdown",
          "checksum": "4aa3411bd6c18fa8a9e028fe90d11d87",
          "grade": false,
          "grade_id": "cell-86ed62c5a4c79d84",
          "locked": true,
          "schema_version": 3,
          "solution": false,
          "task": false
        }
      },
      "source": [
        "**Task 4a Test**"
      ]
    },
    {
      "cell_type": "code",
      "execution_count": 9,
      "id": "442f138a",
      "metadata": {
        "deletable": false,
        "editable": false,
        "id": "442f138a",
        "nbgrader": {
          "cell_type": "code",
          "checksum": "14cbf1922d6bb9e6d7bfff372c4798a0",
          "grade": true,
          "grade_id": "cell-041962ba22262d5e",
          "locked": true,
          "points": 0.5,
          "schema_version": 3,
          "solution": false,
          "task": false
        }
      },
      "outputs": [],
      "source": [
        "#Task 4a Test\n",
        "assert len(five_colors) == 5\n",
        "# Hidden tests - you will see the results when you submit to Canvas"
      ]
    },
    {
      "cell_type": "markdown",
      "id": "aca4a25b",
      "metadata": {
        "deletable": false,
        "editable": false,
        "id": "aca4a25b",
        "nbgrader": {
          "cell_type": "markdown",
          "checksum": "4bcbc1f7b8ce0980b62c341c1518f054",
          "grade": false,
          "grade_id": "cell-7ae0fb57d4f78fd6",
          "locked": true,
          "schema_version": 3,
          "solution": false,
          "task": false
        }
      },
      "source": [
        "**Task 4b** Python Data Types\n",
        "* Remove the value that is in the middle of the `five_colors` list. Assign this new list to an object called `four_colors`."
      ]
    },
    {
      "cell_type": "code",
      "execution_count": 19,
      "id": "7fde1360",
      "metadata": {
        "deletable": false,
        "id": "7fde1360",
        "nbgrader": {
          "cell_type": "code",
          "checksum": "3f1fb91fd70c2027dfd55160bec40d6b",
          "grade": false,
          "grade_id": "cell-de568d701f9137ca",
          "locked": false,
          "schema_version": 3,
          "solution": true,
          "task": false
        }
      },
      "outputs": [
        {
          "name": "stdout",
          "output_type": "stream",
          "text": [
            "['blue', 'green', 'purple', 'yellow']\n"
          ]
        }
      ],
      "source": [
        "# YOUR CODE HERE\n",
        "removed_color = five_colors.pop(2)\n",
        "\n",
        "four_colors = five_colors\n",
        "print(four_colors)"
      ]
    },
    {
      "cell_type": "markdown",
      "id": "bd97590b",
      "metadata": {
        "deletable": false,
        "editable": false,
        "id": "bd97590b",
        "nbgrader": {
          "cell_type": "markdown",
          "checksum": "148780a46ef762f4f9ee95bf4ec3426f",
          "grade": false,
          "grade_id": "cell-52ec4f13ab1d2ba2",
          "locked": true,
          "schema_version": 3,
          "solution": false,
          "task": false
        }
      },
      "source": [
        "**Task 4b Test**"
      ]
    },
    {
      "cell_type": "code",
      "execution_count": 20,
      "id": "7c457741",
      "metadata": {
        "deletable": false,
        "editable": false,
        "id": "7c457741",
        "nbgrader": {
          "cell_type": "code",
          "checksum": "683d454f9ab5c7b5690b3788cae49bcb",
          "grade": true,
          "grade_id": "cell-9ab8dc3c20c2a9c1",
          "locked": true,
          "points": 0.5,
          "schema_version": 3,
          "solution": false,
          "task": false
        }
      },
      "outputs": [],
      "source": [
        "#Task 4b Test\n",
        "assert len(four_colors) == 4, \"Try displaying or printing the output of your object to verify your results\"\n",
        "# Hidden tests - you will see the results when you submit to Canvas\n"
      ]
    },
    {
      "cell_type": "markdown",
      "id": "e9ddc0a0",
      "metadata": {
        "deletable": false,
        "editable": false,
        "id": "e9ddc0a0",
        "nbgrader": {
          "cell_type": "markdown",
          "checksum": "0d535951ab54de21e2f2f261f25267ac",
          "grade": false,
          "grade_id": "cell-0241eccb6598bb3f",
          "locked": true,
          "schema_version": 3,
          "solution": false,
          "task": false
        }
      },
      "source": [
        "**Task 5** - Indexing\n",
        "* Use indexing to return the *third* item in the `four_colors` list. Assign this to an object called `third_color`.\n",
        "* Next, use string indexing to return the first and the last letter of the `third_color` object. Assign it to an object called `first_and_last`.   \n"
      ]
    },
    {
      "cell_type": "code",
      "execution_count": 26,
      "id": "4fd187c3",
      "metadata": {
        "deletable": false,
        "id": "4fd187c3",
        "nbgrader": {
          "cell_type": "code",
          "checksum": "e6495e4b60c70493f5b56c215560b47a",
          "grade": false,
          "grade_id": "cell-9809eb2fc05f4fa5",
          "locked": false,
          "schema_version": 3,
          "solution": true,
          "task": false
        }
      },
      "outputs": [
        {
          "name": "stdout",
          "output_type": "stream",
          "text": [
            "pe\n"
          ]
        }
      ],
      "source": [
        "# YOUR CODE HERE\n",
        "third_color = four_colors[2]\n",
        "third_color\n",
        "for x in third_color:\n",
        "    first_and_last = third_color[0] + third_color[5]\n",
        "print(first_and_last)"
      ]
    },
    {
      "cell_type": "markdown",
      "id": "70dbeb73",
      "metadata": {
        "deletable": false,
        "editable": false,
        "id": "70dbeb73",
        "nbgrader": {
          "cell_type": "markdown",
          "checksum": "ee3bf837dbe6f952cbb6593aff968ed2",
          "grade": false,
          "grade_id": "cell-02167e38b7bf155b",
          "locked": true,
          "schema_version": 3,
          "solution": false,
          "task": false
        }
      },
      "source": [
        "**Task 5 Test**"
      ]
    },
    {
      "cell_type": "code",
      "execution_count": 25,
      "id": "540bd086",
      "metadata": {
        "deletable": false,
        "editable": false,
        "id": "540bd086",
        "nbgrader": {
          "cell_type": "code",
          "checksum": "6437a8c97d646867e2ab53a1cfc10cd8",
          "grade": true,
          "grade_id": "cell-229ed9f4a0babeba",
          "locked": true,
          "points": 1,
          "schema_version": 3,
          "solution": false,
          "task": false
        }
      },
      "outputs": [],
      "source": [
        "#Task 5 Test\n",
        "assert third_color == 'purple'\n",
        "# Hidden tests - you will see the results when you submit to Canvas"
      ]
    },
    {
      "cell_type": "markdown",
      "id": "913f6060",
      "metadata": {
        "deletable": false,
        "editable": false,
        "id": "913f6060",
        "nbgrader": {
          "cell_type": "markdown",
          "checksum": "61126c9756d4fdf1dd9a8531474aca01",
          "grade": false,
          "grade_id": "cell-18fa4e019b350589",
          "locked": true,
          "schema_version": 3,
          "solution": false,
          "task": false
        }
      },
      "source": [
        "**Task 6a** - Indexing\n",
        "* Create a dictionary that includes the following key: value pairs: `charizard: fire, squirtle: water, bulbasaur: leaf`. Assign it to an object called `poke_dictionary`"
      ]
    },
    {
      "cell_type": "code",
      "execution_count": 27,
      "id": "bf8be622",
      "metadata": {
        "deletable": false,
        "id": "bf8be622",
        "nbgrader": {
          "cell_type": "code",
          "checksum": "bc2ddb59390ee88200994eb110c20180",
          "grade": false,
          "grade_id": "cell-24b1a6230e320ec9",
          "locked": false,
          "schema_version": 3,
          "solution": true,
          "task": false
        }
      },
      "outputs": [],
      "source": [
        "# YOUR CODE HERE\n",
        "poke_dictionary = {\n",
        "    'charizard': 'fire',\n",
        "    'squirtle' : 'water',\n",
        "    'bulbasaur' : 'leaf',\n",
        "}"
      ]
    },
    {
      "cell_type": "markdown",
      "id": "13821352",
      "metadata": {
        "deletable": false,
        "editable": false,
        "id": "13821352",
        "nbgrader": {
          "cell_type": "markdown",
          "checksum": "e37a6de97d3db9e86ce4c3a975c1551b",
          "grade": false,
          "grade_id": "cell-55b29c2e48a8aeee",
          "locked": true,
          "schema_version": 3,
          "solution": false,
          "task": false
        }
      },
      "source": [
        "**Task 6a Test**"
      ]
    },
    {
      "cell_type": "code",
      "execution_count": 28,
      "id": "130f4536",
      "metadata": {
        "deletable": false,
        "editable": false,
        "id": "130f4536",
        "nbgrader": {
          "cell_type": "code",
          "checksum": "e60a8a59a3be435951e9b2862c8da5f7",
          "grade": true,
          "grade_id": "cell-5ad0aaf04fb6881b",
          "locked": true,
          "points": 0.5,
          "schema_version": 3,
          "solution": false,
          "task": false
        }
      },
      "outputs": [],
      "source": [
        "#Task 6a Test\n",
        "assert len(poke_dictionary.keys()) == 3, \"Verify your syntax. Did you create a dictionary object?\"\n",
        "\n",
        "# Hidden tests - you will see the results when you submit to Canvas\n"
      ]
    },
    {
      "cell_type": "markdown",
      "id": "8dc33e71",
      "metadata": {
        "deletable": false,
        "editable": false,
        "id": "8dc33e71",
        "nbgrader": {
          "cell_type": "markdown",
          "checksum": "5a8e4ac4d394552fc6e931ab9e829eb5",
          "grade": false,
          "grade_id": "cell-c1aca4c65563149c",
          "locked": true,
          "schema_version": 3,
          "solution": false,
          "task": false
        }
      },
      "source": [
        "**Task 6b** - Indexing\n",
        "* Create a new dictionary called `more_poke` that includes the following: `pikachu: electric, pidgey: air`\n",
        "* Combine the key and values of the `more_poke` with the original `poke_dictionary`.\n",
        ">Hint: You may need to research how to combine two dictionaries.\n",
        "* Assign all the `dictionary values` of the `poke_dictionary` to an object called `poke_values`.\n",
        ">Hint: Your output for `poke_values` will look like: `dict_values(['fire', 'water', 'leaf', 'electric', 'air'])`"
      ]
    },
    {
      "cell_type": "code",
      "execution_count": 34,
      "id": "71388e13",
      "metadata": {
        "deletable": false,
        "id": "71388e13",
        "nbgrader": {
          "cell_type": "code",
          "checksum": "455ca1aa6a8caff53721ba774c2d3350",
          "grade": false,
          "grade_id": "cell-0b4582e6a68091ef",
          "locked": false,
          "schema_version": 3,
          "solution": true,
          "task": false
        }
      },
      "outputs": [
        {
          "name": "stdout",
          "output_type": "stream",
          "text": [
            "{'charizard': 'fire', 'squirtle': 'water', 'bulbasaur': 'leaf', 'pikachu': 'electric', 'pidgey': 'air'}\n"
          ]
        },
        {
          "data": {
            "text/plain": [
              "dict_values(['fire', 'water', 'leaf', 'electric', 'air'])"
            ]
          },
          "execution_count": 34,
          "metadata": {},
          "output_type": "execute_result"
        }
      ],
      "source": [
        "# YOUR CODE HERE\n",
        "more_poke = {\n",
        "    'pikachu': 'electric',\n",
        "    'pidgey' :'air',\n",
        "}\n",
        "\n",
        "poke_dictionary.update(more_poke)\n",
        "print(poke_dictionary)\n",
        "\n",
        "poke_dictionary.values()"
      ]
    },
    {
      "cell_type": "markdown",
      "id": "9ee71555",
      "metadata": {
        "deletable": false,
        "editable": false,
        "id": "9ee71555",
        "nbgrader": {
          "cell_type": "markdown",
          "checksum": "fa97097d64bf14cd4c6374c821300ad1",
          "grade": false,
          "grade_id": "cell-2c1ed604143ef367",
          "locked": true,
          "schema_version": 3,
          "solution": false,
          "task": false
        }
      },
      "source": [
        "**Task 6b Tests**"
      ]
    },
    {
      "cell_type": "code",
      "execution_count": 35,
      "id": "ffe3d031",
      "metadata": {
        "deletable": false,
        "editable": false,
        "id": "ffe3d031",
        "nbgrader": {
          "cell_type": "code",
          "checksum": "ad115f903e988a759beb8a301c913965",
          "grade": true,
          "grade_id": "cell-c561f60e90446fd7",
          "locked": true,
          "points": 0.5,
          "schema_version": 3,
          "solution": false,
          "task": false
        }
      },
      "outputs": [],
      "source": [
        "#Task 6b Test\n",
        "assert isinstance(more_poke, dict), \"Check your syntax. Did you create a dictionary object?\"\n",
        "assert len(poke_dictionary) == 5, \"Did you properly combine both dictionaries?\"\n",
        "# Hidden tests - you will see the results when you submit to Canvas\n",
        "\n",
        "\n"
      ]
    },
    {
      "cell_type": "markdown",
      "id": "7b6e4a7f",
      "metadata": {
        "deletable": false,
        "editable": false,
        "id": "7b6e4a7f",
        "nbgrader": {
          "cell_type": "markdown",
          "checksum": "0867155a2af71262eed00d6d78984ab8",
          "grade": false,
          "grade_id": "cell-eae7a9e336671bc6",
          "locked": true,
          "schema_version": 3,
          "solution": false,
          "task": false
        }
      },
      "source": [
        "**Task 7** Loops\n",
        "* Use a for loop to go through the `poke_dictionary` object. Return all the dictionary **values** as uppercase letters and the **keys** as lowercase values.\n",
        "* *Hint*: This [StackOverflow](https://stackoverflow.com/questions/50004310/convert-python-dictionary-to-uppercase) page offers a solution (with a slight adjustment), but there are multiple ways you can do this!"
      ]
    },
    {
      "cell_type": "code",
      "execution_count": 54,
      "id": "26316052",
      "metadata": {
        "deletable": false,
        "id": "26316052",
        "nbgrader": {
          "cell_type": "code",
          "checksum": "20bf94d548e22b001becf237224085c8",
          "grade": false,
          "grade_id": "cell-0535b02af29e01e7",
          "locked": false,
          "schema_version": 3,
          "solution": true,
          "task": false
        }
      },
      "outputs": [
        {
          "name": "stdout",
          "output_type": "stream",
          "text": [
            "{'FIRE': 'charizard', 'WATER': 'squirtle', 'LEAF': 'bulbasaur', 'ELECTRIC': 'pikachu', 'AIR': 'pidgey'}\n"
          ]
        }
      ],
      "source": [
        "# YOUR CODE HERE\n",
        "modified_dictionary = {}\n",
        "for key, value in poke_dictionary.items():\n",
        "    modified_dictionary[value.upper()] = key.lower()\n",
        "print(modified_dictionary)"
      ]
    },
    {
      "cell_type": "markdown",
      "id": "a49cd552",
      "metadata": {
        "deletable": false,
        "editable": false,
        "id": "a49cd552",
        "nbgrader": {
          "cell_type": "markdown",
          "checksum": "1e1736d1c2840096120675e9d06f4827",
          "grade": false,
          "grade_id": "cell-bca76de42c5c2d85",
          "locked": true,
          "schema_version": 3,
          "solution": false,
          "task": false
        }
      },
      "source": [
        "**Task 7 Test**"
      ]
    },
    {
      "cell_type": "code",
      "execution_count": 56,
      "id": "9f1f53d4",
      "metadata": {
        "deletable": false,
        "editable": false,
        "id": "9f1f53d4",
        "nbgrader": {
          "cell_type": "code",
          "checksum": "99d2598c47f8c65240eaaa196b67b90f",
          "grade": true,
          "grade_id": "cell-0e4a39d38c38f186",
          "locked": true,
          "points": 1,
          "schema_version": 3,
          "solution": false,
          "task": false
        }
      },
      "outputs": [
        {
          "ename": "AssertionError",
          "evalue": "Your dictionary values should all be uppercase",
          "output_type": "error",
          "traceback": [
            "\u001b[1;31m---------------------------------------------------------------------------\u001b[0m",
            "\u001b[1;31mAssertionError\u001b[0m                            Traceback (most recent call last)",
            "Cell \u001b[1;32mIn[56], line 2\u001b[0m\n\u001b[0;32m      1\u001b[0m \u001b[38;5;66;03m#Task 8 Test\u001b[39;00m\n\u001b[1;32m----> 2\u001b[0m \u001b[38;5;28;01massert\u001b[39;00m poke_dictionary[\u001b[38;5;124m'\u001b[39m\u001b[38;5;124mpikachu\u001b[39m\u001b[38;5;124m'\u001b[39m]\u001b[38;5;241m.\u001b[39misupper(), \u001b[38;5;124m\"\u001b[39m\u001b[38;5;124mYour dictionary values should all be uppercase\u001b[39m\u001b[38;5;124m\"\u001b[39m\n",
            "\u001b[1;31mAssertionError\u001b[0m: Your dictionary values should all be uppercase"
          ]
        }
      ],
      "source": [
        "#Task 8 Test\n",
        "assert poke_dictionary['pikachu'].isupper(), \"Your dictionary values should all be uppercase\""
      ]
    },
    {
      "cell_type": "markdown",
      "id": "e16c47d5",
      "metadata": {
        "deletable": false,
        "editable": false,
        "id": "e16c47d5",
        "nbgrader": {
          "cell_type": "markdown",
          "checksum": "bdc78e93de6dd5f62816ab96f4503105",
          "grade": false,
          "grade_id": "cell-7ddb13dfb23b417b",
          "locked": true,
          "schema_version": 3,
          "solution": false,
          "task": false
        }
      },
      "source": [
        "**Task 8** Imports\n",
        "* Import the `seaborn` and `pandas` library. Alias the libraries as `sns` and `pd` respectively.\n",
        "* Use the `sns` library to load a dataset of your choice. Assign it to an object called `df`.\n",
        "* Run the following code: `df.loc[0]`. What data type is this? Assign your answer to an object called `first_row_type`.\n"
      ]
    },
    {
      "cell_type": "code",
      "execution_count": 58,
      "id": "d3307118",
      "metadata": {
        "deletable": false,
        "id": "d3307118",
        "nbgrader": {
          "cell_type": "code",
          "checksum": "d6875330a3b0ec27e2c5b3753406f119",
          "grade": false,
          "grade_id": "cell-6ed26cd55b737be1",
          "locked": false,
          "schema_version": 3,
          "solution": true,
          "task": false
        }
      },
      "outputs": [
        {
          "ename": "HTTPError",
          "evalue": "HTTP Error 404: Not Found",
          "output_type": "error",
          "traceback": [
            "\u001b[1;31m---------------------------------------------------------------------------\u001b[0m",
            "\u001b[1;31mHTTPError\u001b[0m                                 Traceback (most recent call last)",
            "Cell \u001b[1;32mIn[58], line 5\u001b[0m\n\u001b[0;32m      3\u001b[0m \u001b[38;5;28;01mimport\u001b[39;00m \u001b[38;5;21;01mpandas\u001b[39;00m \u001b[38;5;28;01mas\u001b[39;00m \u001b[38;5;21;01mpd\u001b[39;00m\n\u001b[0;32m      4\u001b[0m poke_csv \u001b[38;5;241m=\u001b[39m \u001b[38;5;124m'\u001b[39m\u001b[38;5;124mhttps://github.com/mwaskom/seaborn-data/blob/master/flights.csv\u001b[39m\u001b[38;5;124m'\u001b[39m\n\u001b[1;32m----> 5\u001b[0m df \u001b[38;5;241m=\u001b[39m \u001b[43msns\u001b[49m\u001b[38;5;241;43m.\u001b[39;49m\u001b[43mload_dataset\u001b[49m\u001b[43m(\u001b[49m\u001b[43mpoke_csv\u001b[49m\u001b[43m)\u001b[49m\n\u001b[0;32m      6\u001b[0m first_row_type \u001b[38;5;241m=\u001b[39m \u001b[38;5;28mtype\u001b[39m(df\u001b[38;5;241m.\u001b[39mloc[\u001b[38;5;241m0\u001b[39m])\n",
            "File \u001b[1;32mc:\\Users\\ISHMO_CT\\.conda\\envs\\Kaggle_proj\\Lib\\site-packages\\seaborn\\utils.py:449\u001b[0m, in \u001b[0;36mload_dataset\u001b[1;34m(name, cache, data_home, **kws)\u001b[0m\n\u001b[0;32m    446\u001b[0m     cache_path \u001b[38;5;241m=\u001b[39m os\u001b[38;5;241m.\u001b[39mpath\u001b[38;5;241m.\u001b[39mjoin(get_data_home(data_home),\n\u001b[0;32m    447\u001b[0m                               os\u001b[38;5;241m.\u001b[39mpath\u001b[38;5;241m.\u001b[39mbasename(full_path))\n\u001b[0;32m    448\u001b[0m     \u001b[38;5;28;01mif\u001b[39;00m \u001b[38;5;129;01mnot\u001b[39;00m os\u001b[38;5;241m.\u001b[39mpath\u001b[38;5;241m.\u001b[39mexists(cache_path):\n\u001b[1;32m--> 449\u001b[0m         \u001b[43murlretrieve\u001b[49m\u001b[43m(\u001b[49m\u001b[43mfull_path\u001b[49m\u001b[43m,\u001b[49m\u001b[43m \u001b[49m\u001b[43mcache_path\u001b[49m\u001b[43m)\u001b[49m\n\u001b[0;32m    450\u001b[0m     full_path \u001b[38;5;241m=\u001b[39m cache_path\n\u001b[0;32m    452\u001b[0m df \u001b[38;5;241m=\u001b[39m pd\u001b[38;5;241m.\u001b[39mread_csv(full_path, \u001b[38;5;241m*\u001b[39m\u001b[38;5;241m*\u001b[39mkws)\n",
            "File \u001b[1;32mc:\\Users\\ISHMO_CT\\.conda\\envs\\Kaggle_proj\\Lib\\urllib\\request.py:241\u001b[0m, in \u001b[0;36murlretrieve\u001b[1;34m(url, filename, reporthook, data)\u001b[0m\n\u001b[0;32m    224\u001b[0m \u001b[38;5;250m\u001b[39m\u001b[38;5;124;03m\"\"\"\u001b[39;00m\n\u001b[0;32m    225\u001b[0m \u001b[38;5;124;03mRetrieve a URL into a temporary location on disk.\u001b[39;00m\n\u001b[0;32m    226\u001b[0m \n\u001b[1;32m   (...)\u001b[0m\n\u001b[0;32m    237\u001b[0m \u001b[38;5;124;03mdata file as well as the resulting HTTPMessage object.\u001b[39;00m\n\u001b[0;32m    238\u001b[0m \u001b[38;5;124;03m\"\"\"\u001b[39;00m\n\u001b[0;32m    239\u001b[0m url_type, path \u001b[38;5;241m=\u001b[39m _splittype(url)\n\u001b[1;32m--> 241\u001b[0m \u001b[38;5;28;01mwith\u001b[39;00m contextlib\u001b[38;5;241m.\u001b[39mclosing(\u001b[43murlopen\u001b[49m\u001b[43m(\u001b[49m\u001b[43murl\u001b[49m\u001b[43m,\u001b[49m\u001b[43m \u001b[49m\u001b[43mdata\u001b[49m\u001b[43m)\u001b[49m) \u001b[38;5;28;01mas\u001b[39;00m fp:\n\u001b[0;32m    242\u001b[0m     headers \u001b[38;5;241m=\u001b[39m fp\u001b[38;5;241m.\u001b[39minfo()\n\u001b[0;32m    244\u001b[0m     \u001b[38;5;66;03m# Just return the local path and the \"headers\" for file://\u001b[39;00m\n\u001b[0;32m    245\u001b[0m     \u001b[38;5;66;03m# URLs. No sense in performing a copy unless requested.\u001b[39;00m\n",
            "File \u001b[1;32mc:\\Users\\ISHMO_CT\\.conda\\envs\\Kaggle_proj\\Lib\\urllib\\request.py:216\u001b[0m, in \u001b[0;36murlopen\u001b[1;34m(url, data, timeout, cafile, capath, cadefault, context)\u001b[0m\n\u001b[0;32m    214\u001b[0m \u001b[38;5;28;01melse\u001b[39;00m:\n\u001b[0;32m    215\u001b[0m     opener \u001b[38;5;241m=\u001b[39m _opener\n\u001b[1;32m--> 216\u001b[0m \u001b[38;5;28;01mreturn\u001b[39;00m \u001b[43mopener\u001b[49m\u001b[38;5;241;43m.\u001b[39;49m\u001b[43mopen\u001b[49m\u001b[43m(\u001b[49m\u001b[43murl\u001b[49m\u001b[43m,\u001b[49m\u001b[43m \u001b[49m\u001b[43mdata\u001b[49m\u001b[43m,\u001b[49m\u001b[43m \u001b[49m\u001b[43mtimeout\u001b[49m\u001b[43m)\u001b[49m\n",
            "File \u001b[1;32mc:\\Users\\ISHMO_CT\\.conda\\envs\\Kaggle_proj\\Lib\\urllib\\request.py:525\u001b[0m, in \u001b[0;36mOpenerDirector.open\u001b[1;34m(self, fullurl, data, timeout)\u001b[0m\n\u001b[0;32m    523\u001b[0m \u001b[38;5;28;01mfor\u001b[39;00m processor \u001b[38;5;129;01min\u001b[39;00m \u001b[38;5;28mself\u001b[39m\u001b[38;5;241m.\u001b[39mprocess_response\u001b[38;5;241m.\u001b[39mget(protocol, []):\n\u001b[0;32m    524\u001b[0m     meth \u001b[38;5;241m=\u001b[39m \u001b[38;5;28mgetattr\u001b[39m(processor, meth_name)\n\u001b[1;32m--> 525\u001b[0m     response \u001b[38;5;241m=\u001b[39m \u001b[43mmeth\u001b[49m\u001b[43m(\u001b[49m\u001b[43mreq\u001b[49m\u001b[43m,\u001b[49m\u001b[43m \u001b[49m\u001b[43mresponse\u001b[49m\u001b[43m)\u001b[49m\n\u001b[0;32m    527\u001b[0m \u001b[38;5;28;01mreturn\u001b[39;00m response\n",
            "File \u001b[1;32mc:\\Users\\ISHMO_CT\\.conda\\envs\\Kaggle_proj\\Lib\\urllib\\request.py:634\u001b[0m, in \u001b[0;36mHTTPErrorProcessor.http_response\u001b[1;34m(self, request, response)\u001b[0m\n\u001b[0;32m    631\u001b[0m \u001b[38;5;66;03m# According to RFC 2616, \"2xx\" code indicates that the client's\u001b[39;00m\n\u001b[0;32m    632\u001b[0m \u001b[38;5;66;03m# request was successfully received, understood, and accepted.\u001b[39;00m\n\u001b[0;32m    633\u001b[0m \u001b[38;5;28;01mif\u001b[39;00m \u001b[38;5;129;01mnot\u001b[39;00m (\u001b[38;5;241m200\u001b[39m \u001b[38;5;241m<\u001b[39m\u001b[38;5;241m=\u001b[39m code \u001b[38;5;241m<\u001b[39m \u001b[38;5;241m300\u001b[39m):\n\u001b[1;32m--> 634\u001b[0m     response \u001b[38;5;241m=\u001b[39m \u001b[38;5;28;43mself\u001b[39;49m\u001b[38;5;241;43m.\u001b[39;49m\u001b[43mparent\u001b[49m\u001b[38;5;241;43m.\u001b[39;49m\u001b[43merror\u001b[49m\u001b[43m(\u001b[49m\n\u001b[0;32m    635\u001b[0m \u001b[43m        \u001b[49m\u001b[38;5;124;43m'\u001b[39;49m\u001b[38;5;124;43mhttp\u001b[39;49m\u001b[38;5;124;43m'\u001b[39;49m\u001b[43m,\u001b[49m\u001b[43m \u001b[49m\u001b[43mrequest\u001b[49m\u001b[43m,\u001b[49m\u001b[43m \u001b[49m\u001b[43mresponse\u001b[49m\u001b[43m,\u001b[49m\u001b[43m \u001b[49m\u001b[43mcode\u001b[49m\u001b[43m,\u001b[49m\u001b[43m \u001b[49m\u001b[43mmsg\u001b[49m\u001b[43m,\u001b[49m\u001b[43m \u001b[49m\u001b[43mhdrs\u001b[49m\u001b[43m)\u001b[49m\n\u001b[0;32m    637\u001b[0m \u001b[38;5;28;01mreturn\u001b[39;00m response\n",
            "File \u001b[1;32mc:\\Users\\ISHMO_CT\\.conda\\envs\\Kaggle_proj\\Lib\\urllib\\request.py:557\u001b[0m, in \u001b[0;36mOpenerDirector.error\u001b[1;34m(self, proto, *args)\u001b[0m\n\u001b[0;32m    555\u001b[0m     http_err \u001b[38;5;241m=\u001b[39m \u001b[38;5;241m0\u001b[39m\n\u001b[0;32m    556\u001b[0m args \u001b[38;5;241m=\u001b[39m (\u001b[38;5;28mdict\u001b[39m, proto, meth_name) \u001b[38;5;241m+\u001b[39m args\n\u001b[1;32m--> 557\u001b[0m result \u001b[38;5;241m=\u001b[39m \u001b[38;5;28;43mself\u001b[39;49m\u001b[38;5;241;43m.\u001b[39;49m\u001b[43m_call_chain\u001b[49m\u001b[43m(\u001b[49m\u001b[38;5;241;43m*\u001b[39;49m\u001b[43margs\u001b[49m\u001b[43m)\u001b[49m\n\u001b[0;32m    558\u001b[0m \u001b[38;5;28;01mif\u001b[39;00m result:\n\u001b[0;32m    559\u001b[0m     \u001b[38;5;28;01mreturn\u001b[39;00m result\n",
            "File \u001b[1;32mc:\\Users\\ISHMO_CT\\.conda\\envs\\Kaggle_proj\\Lib\\urllib\\request.py:496\u001b[0m, in \u001b[0;36mOpenerDirector._call_chain\u001b[1;34m(self, chain, kind, meth_name, *args)\u001b[0m\n\u001b[0;32m    494\u001b[0m \u001b[38;5;28;01mfor\u001b[39;00m handler \u001b[38;5;129;01min\u001b[39;00m handlers:\n\u001b[0;32m    495\u001b[0m     func \u001b[38;5;241m=\u001b[39m \u001b[38;5;28mgetattr\u001b[39m(handler, meth_name)\n\u001b[1;32m--> 496\u001b[0m     result \u001b[38;5;241m=\u001b[39m \u001b[43mfunc\u001b[49m\u001b[43m(\u001b[49m\u001b[38;5;241;43m*\u001b[39;49m\u001b[43margs\u001b[49m\u001b[43m)\u001b[49m\n\u001b[0;32m    497\u001b[0m     \u001b[38;5;28;01mif\u001b[39;00m result \u001b[38;5;129;01mis\u001b[39;00m \u001b[38;5;129;01mnot\u001b[39;00m \u001b[38;5;28;01mNone\u001b[39;00m:\n\u001b[0;32m    498\u001b[0m         \u001b[38;5;28;01mreturn\u001b[39;00m result\n",
            "File \u001b[1;32mc:\\Users\\ISHMO_CT\\.conda\\envs\\Kaggle_proj\\Lib\\urllib\\request.py:749\u001b[0m, in \u001b[0;36mHTTPRedirectHandler.http_error_302\u001b[1;34m(self, req, fp, code, msg, headers)\u001b[0m\n\u001b[0;32m    746\u001b[0m fp\u001b[38;5;241m.\u001b[39mread()\n\u001b[0;32m    747\u001b[0m fp\u001b[38;5;241m.\u001b[39mclose()\n\u001b[1;32m--> 749\u001b[0m \u001b[38;5;28;01mreturn\u001b[39;00m \u001b[38;5;28;43mself\u001b[39;49m\u001b[38;5;241;43m.\u001b[39;49m\u001b[43mparent\u001b[49m\u001b[38;5;241;43m.\u001b[39;49m\u001b[43mopen\u001b[49m\u001b[43m(\u001b[49m\u001b[43mnew\u001b[49m\u001b[43m,\u001b[49m\u001b[43m \u001b[49m\u001b[43mtimeout\u001b[49m\u001b[38;5;241;43m=\u001b[39;49m\u001b[43mreq\u001b[49m\u001b[38;5;241;43m.\u001b[39;49m\u001b[43mtimeout\u001b[49m\u001b[43m)\u001b[49m\n",
            "File \u001b[1;32mc:\\Users\\ISHMO_CT\\.conda\\envs\\Kaggle_proj\\Lib\\urllib\\request.py:525\u001b[0m, in \u001b[0;36mOpenerDirector.open\u001b[1;34m(self, fullurl, data, timeout)\u001b[0m\n\u001b[0;32m    523\u001b[0m \u001b[38;5;28;01mfor\u001b[39;00m processor \u001b[38;5;129;01min\u001b[39;00m \u001b[38;5;28mself\u001b[39m\u001b[38;5;241m.\u001b[39mprocess_response\u001b[38;5;241m.\u001b[39mget(protocol, []):\n\u001b[0;32m    524\u001b[0m     meth \u001b[38;5;241m=\u001b[39m \u001b[38;5;28mgetattr\u001b[39m(processor, meth_name)\n\u001b[1;32m--> 525\u001b[0m     response \u001b[38;5;241m=\u001b[39m \u001b[43mmeth\u001b[49m\u001b[43m(\u001b[49m\u001b[43mreq\u001b[49m\u001b[43m,\u001b[49m\u001b[43m \u001b[49m\u001b[43mresponse\u001b[49m\u001b[43m)\u001b[49m\n\u001b[0;32m    527\u001b[0m \u001b[38;5;28;01mreturn\u001b[39;00m response\n",
            "File \u001b[1;32mc:\\Users\\ISHMO_CT\\.conda\\envs\\Kaggle_proj\\Lib\\urllib\\request.py:634\u001b[0m, in \u001b[0;36mHTTPErrorProcessor.http_response\u001b[1;34m(self, request, response)\u001b[0m\n\u001b[0;32m    631\u001b[0m \u001b[38;5;66;03m# According to RFC 2616, \"2xx\" code indicates that the client's\u001b[39;00m\n\u001b[0;32m    632\u001b[0m \u001b[38;5;66;03m# request was successfully received, understood, and accepted.\u001b[39;00m\n\u001b[0;32m    633\u001b[0m \u001b[38;5;28;01mif\u001b[39;00m \u001b[38;5;129;01mnot\u001b[39;00m (\u001b[38;5;241m200\u001b[39m \u001b[38;5;241m<\u001b[39m\u001b[38;5;241m=\u001b[39m code \u001b[38;5;241m<\u001b[39m \u001b[38;5;241m300\u001b[39m):\n\u001b[1;32m--> 634\u001b[0m     response \u001b[38;5;241m=\u001b[39m \u001b[38;5;28;43mself\u001b[39;49m\u001b[38;5;241;43m.\u001b[39;49m\u001b[43mparent\u001b[49m\u001b[38;5;241;43m.\u001b[39;49m\u001b[43merror\u001b[49m\u001b[43m(\u001b[49m\n\u001b[0;32m    635\u001b[0m \u001b[43m        \u001b[49m\u001b[38;5;124;43m'\u001b[39;49m\u001b[38;5;124;43mhttp\u001b[39;49m\u001b[38;5;124;43m'\u001b[39;49m\u001b[43m,\u001b[49m\u001b[43m \u001b[49m\u001b[43mrequest\u001b[49m\u001b[43m,\u001b[49m\u001b[43m \u001b[49m\u001b[43mresponse\u001b[49m\u001b[43m,\u001b[49m\u001b[43m \u001b[49m\u001b[43mcode\u001b[49m\u001b[43m,\u001b[49m\u001b[43m \u001b[49m\u001b[43mmsg\u001b[49m\u001b[43m,\u001b[49m\u001b[43m \u001b[49m\u001b[43mhdrs\u001b[49m\u001b[43m)\u001b[49m\n\u001b[0;32m    637\u001b[0m \u001b[38;5;28;01mreturn\u001b[39;00m response\n",
            "File \u001b[1;32mc:\\Users\\ISHMO_CT\\.conda\\envs\\Kaggle_proj\\Lib\\urllib\\request.py:563\u001b[0m, in \u001b[0;36mOpenerDirector.error\u001b[1;34m(self, proto, *args)\u001b[0m\n\u001b[0;32m    561\u001b[0m \u001b[38;5;28;01mif\u001b[39;00m http_err:\n\u001b[0;32m    562\u001b[0m     args \u001b[38;5;241m=\u001b[39m (\u001b[38;5;28mdict\u001b[39m, \u001b[38;5;124m'\u001b[39m\u001b[38;5;124mdefault\u001b[39m\u001b[38;5;124m'\u001b[39m, \u001b[38;5;124m'\u001b[39m\u001b[38;5;124mhttp_error_default\u001b[39m\u001b[38;5;124m'\u001b[39m) \u001b[38;5;241m+\u001b[39m orig_args\n\u001b[1;32m--> 563\u001b[0m     \u001b[38;5;28;01mreturn\u001b[39;00m \u001b[38;5;28;43mself\u001b[39;49m\u001b[38;5;241;43m.\u001b[39;49m\u001b[43m_call_chain\u001b[49m\u001b[43m(\u001b[49m\u001b[38;5;241;43m*\u001b[39;49m\u001b[43margs\u001b[49m\u001b[43m)\u001b[49m\n",
            "File \u001b[1;32mc:\\Users\\ISHMO_CT\\.conda\\envs\\Kaggle_proj\\Lib\\urllib\\request.py:496\u001b[0m, in \u001b[0;36mOpenerDirector._call_chain\u001b[1;34m(self, chain, kind, meth_name, *args)\u001b[0m\n\u001b[0;32m    494\u001b[0m \u001b[38;5;28;01mfor\u001b[39;00m handler \u001b[38;5;129;01min\u001b[39;00m handlers:\n\u001b[0;32m    495\u001b[0m     func \u001b[38;5;241m=\u001b[39m \u001b[38;5;28mgetattr\u001b[39m(handler, meth_name)\n\u001b[1;32m--> 496\u001b[0m     result \u001b[38;5;241m=\u001b[39m \u001b[43mfunc\u001b[49m\u001b[43m(\u001b[49m\u001b[38;5;241;43m*\u001b[39;49m\u001b[43margs\u001b[49m\u001b[43m)\u001b[49m\n\u001b[0;32m    497\u001b[0m     \u001b[38;5;28;01mif\u001b[39;00m result \u001b[38;5;129;01mis\u001b[39;00m \u001b[38;5;129;01mnot\u001b[39;00m \u001b[38;5;28;01mNone\u001b[39;00m:\n\u001b[0;32m    498\u001b[0m         \u001b[38;5;28;01mreturn\u001b[39;00m result\n",
            "File \u001b[1;32mc:\\Users\\ISHMO_CT\\.conda\\envs\\Kaggle_proj\\Lib\\urllib\\request.py:643\u001b[0m, in \u001b[0;36mHTTPDefaultErrorHandler.http_error_default\u001b[1;34m(self, req, fp, code, msg, hdrs)\u001b[0m\n\u001b[0;32m    642\u001b[0m \u001b[38;5;28;01mdef\u001b[39;00m \u001b[38;5;21mhttp_error_default\u001b[39m(\u001b[38;5;28mself\u001b[39m, req, fp, code, msg, hdrs):\n\u001b[1;32m--> 643\u001b[0m     \u001b[38;5;28;01mraise\u001b[39;00m HTTPError(req\u001b[38;5;241m.\u001b[39mfull_url, code, msg, hdrs, fp)\n",
            "\u001b[1;31mHTTPError\u001b[0m: HTTP Error 404: Not Found"
          ]
        }
      ],
      "source": [
        "# YOUR CODE HERE\n",
        "import seaborn as sns\n",
        "import pandas as pd\n",
        "poke_csv = 'https://github.com/mwaskom/seaborn-data/blob/master/flights.csv'\n",
        "df = sns.load_dataset(poke_csv)\n",
        "first_row_type = type(df.loc[0])"
      ]
    },
    {
      "cell_type": "markdown",
      "id": "e2f74e3a",
      "metadata": {
        "deletable": false,
        "editable": false,
        "id": "e2f74e3a",
        "nbgrader": {
          "cell_type": "markdown",
          "checksum": "ae09cb38b4b969d9fc1740cf59808980",
          "grade": false,
          "grade_id": "cell-445cad8112655942",
          "locked": true,
          "schema_version": 3,
          "solution": false,
          "task": false
        }
      },
      "source": [
        "**Task 8 Test**"
      ]
    },
    {
      "cell_type": "code",
      "execution_count": null,
      "id": "259d7f18",
      "metadata": {
        "deletable": false,
        "editable": false,
        "id": "259d7f18",
        "nbgrader": {
          "cell_type": "code",
          "checksum": "eda7d5cc0eba1068ff042f14350a27df",
          "grade": true,
          "grade_id": "cell-39cc971493c3004e",
          "locked": true,
          "points": 1,
          "schema_version": 3,
          "solution": false,
          "task": false
        }
      },
      "outputs": [],
      "source": [
        "#Task 8 Test\n",
        "\n",
        "assert isinstance(df, pd.DataFrame), \"Did you import the pandas library? Did you check the datatype of the df object?\"\n",
        "\n",
        "# Hidden tests - you will see the results when you submit to Canvas"
      ]
    }
  ],
  "metadata": {
    "colab": {
      "provenance": []
    },
    "kernelspec": {
      "display_name": "Python 3",
      "language": "python",
      "name": "python3"
    },
    "language_info": {
      "codemirror_mode": {
        "name": "ipython",
        "version": 3
      },
      "file_extension": ".py",
      "mimetype": "text/x-python",
      "name": "python",
      "nbconvert_exporter": "python",
      "pygments_lexer": "ipython3",
      "version": "3.11.7"
    }
  },
  "nbformat": 4,
  "nbformat_minor": 5
}
