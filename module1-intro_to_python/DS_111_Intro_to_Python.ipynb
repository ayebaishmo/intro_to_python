{
  "cells": [
    {
      "cell_type": "markdown",
      "id": "1adef5c8",
      "metadata": {
        "id": "1adef5c8"
      },
      "source": [
        "\n",
        "# Introduction to Python"
      ]
    },
    {
      "cell_type": "markdown",
      "id": "8c9755c2",
      "metadata": {
        "id": "8c9755c2"
      },
      "source": [
        "> - Objective 01 - Submit Assignments and Save Work via Canvas\n",
        "> - Objective 02 - Working with Canvas, Colab, and Class Tools\n",
        "> - Objective 03 - Determine and describe Python datatypes\n",
        "> - Objective 04 - Understand Python Syntax, Loops and Conditionals\n",
        "\n"
      ]
    },
    {
      "cell_type": "markdown",
      "id": "40f820a3",
      "metadata": {
        "id": "40f820a3"
      },
      "source": [
        "# Working with Canvas and Colab"
      ]
    },
    {
      "cell_type": "markdown",
      "id": "4904bfd2",
      "metadata": {
        "id": "4904bfd2"
      },
      "source": [
        "## Overview\n",
        "\n",
        "We will use Canvas, Colab and CodeGrade to work on, submit and evaluate projects.\n",
        "\n",
        "**Canvas** is a learning management system you that provides extra information you can use to help prepare for Guided Projects and as a resource when you are working on your individual sproject each afternoon.  \n",
        "\n",
        "**GitHub** is where the notebook for your Module Project is located.\n",
        "\n",
        "**Colab** (where you are right now) is the web-based notebook we will use for working on guided and module projects and sprint challenges.\n",
        "\n",
        "**CodeGrade** is the system that will evaluate your module projects and all your Sprint Challenges.\n",
        "\n",
        "**You will  access to and submit your module projects and sprint challenges in Canvas.**"
      ]
    },
    {
      "cell_type": "markdown",
      "id": "2719bccc",
      "metadata": {
        "id": "2719bccc"
      },
      "source": [
        "### 1) Open Canvas and navigate to the course for the sprint we are currently in.\n",
        "\n",
        "In this case, it is **Introduction to Python DS1.1 DSXX** where XX is your cohort number.\n",
        "\n",
        "\n",
        "The course will automatically open to the Overview page were you can take a look at all of the concepts we'll be covering throughout the Sprint.  Click on the links to see what will be covered in each module.\n",
        "\n",
        "When you click on Modules on the left hand side, you'll see content for each module divided into three sections:\n",
        "* Warmup is an intro to what will be covered during Guided Project\n",
        "* Engage is where you'll see the module project, the check for understanding, and pulse check.\n",
        "* Review is where you can find links to previous class recordings."
      ]
    },
    {
      "cell_type": "markdown",
      "id": "37eb5477",
      "metadata": {
        "id": "37eb5477"
      },
      "source": [
        "### 2) How to access the Guided and Module Project from Canvas:\n",
        "\n",
        "Under **Engage** in Canvas, click on the **Module # Project** link. This will direct you to Github.\n",
        "\n",
        "The files that we will be working with primarily during the course have the file extension: .ipynb for \"IPython Notebook\" any of these are notebooks that we can open in Google Colab or Jupyter Notebook.\n",
        "\n",
        "You will find all lecture materials and your daily assignments in the Github repositories."
      ]
    },
    {
      "cell_type": "markdown",
      "id": "f04cf99d",
      "metadata": {
        "id": "f04cf99d"
      },
      "source": [
        "### 3) Install the following Google Chrome extension. This will open any .ipynb file from GitHub directly in Google Colab:\n",
        "\n",
        "[Google Chrome Extension to Open .ipynb files easily in Google Colab](https://chrome.google.com/webstore/detail/open-in-colab/iogfkhleblhcpcekbiedikdehleodpjo?hl=en)\n",
        "\n",
        "When open in in Google Colab, go to **File** --> **\"Save a Copy in Drive\"**"
      ]
    },
    {
      "cell_type": "markdown",
      "id": "78ff3be5",
      "metadata": {
        "id": "78ff3be5"
      },
      "source": [
        "### 4) Upload your daily project to CodeGrade\n",
        "Under **Module Project**, click **Load Module Project in a new window** to submit your work."
      ]
    },
    {
      "cell_type": "markdown",
      "id": "21164afa",
      "metadata": {
        "id": "21164afa"
      },
      "source": [
        "# What is Python?"
      ]
    },
    {
      "cell_type": "markdown",
      "id": "ed02dbf4",
      "metadata": {
        "id": "ed02dbf4"
      },
      "source": [
        "From the [source](https://www.python.org/doc/essays/blurb/):\n",
        "\n",
        "\"Python is an interpreted, object-oriented, high-level programming language with dynamic semantics. Its high-level built-in data structures, combined with dynamic typing and dynamic binding, make it very attractive for Rapid Application Development, as well as for use as a scripting or glue language to connect existing components together. Python's simple, easy to learn syntax emphasizes readability and therefore reduces the cost of program maintenance. Python supports modules and packages, which encourages program modularity and code reuse. The Python interpreter and the extensive standard library are available in source or binary form without charge for all major platforms, and can be freely distributed.\"\n"
      ]
    },
    {
      "cell_type": "markdown",
      "id": "db87a2de",
      "metadata": {
        "id": "db87a2de"
      },
      "source": [
        "# Python and Notebooks (Colab or Jupyter)\n",
        "\n",
        "We will be using Colab for Unit 1. Colab is a Jupyter Notebook environment that runs on the cloud and stores files in your Google Drive."
      ]
    },
    {
      "cell_type": "code",
      "execution_count": 1,
      "id": "5b65aca3",
      "metadata": {
        "id": "5b65aca3"
      },
      "outputs": [
        {
          "data": {
            "text/plain": [
              "'Hello'"
            ]
          },
          "execution_count": 1,
          "metadata": {},
          "output_type": "execute_result"
        }
      ],
      "source": [
        "#run the following cell by clicking on the play button next to this text\n",
        "\"Hello\""
      ]
    },
    {
      "cell_type": "code",
      "execution_count": 2,
      "id": "6997ad18",
      "metadata": {
        "id": "6997ad18"
      },
      "outputs": [
        {
          "data": {
            "text/plain": [
              "4"
            ]
          },
          "execution_count": 2,
          "metadata": {},
          "output_type": "execute_result"
        }
      ],
      "source": [
        "#run the following cell by clicking Shift + Return\n",
        "2+2"
      ]
    },
    {
      "cell_type": "markdown",
      "id": "495fe2fe",
      "metadata": {
        "id": "495fe2fe"
      },
      "source": [
        "## Embrace the keyboard shortcuts:\n",
        "- Press 'esc' to enter navigation mode.\n",
        "- The keys 'a' and 'b' create code cells above and below your current cell when in navigation mode.\n",
        "- Click on the 'Tools' tab above to see additional short-cuts.\n",
        "- It's okay to use your mouse. You'll learn to code like a speedster with practice!"
      ]
    },
    {
      "cell_type": "markdown",
      "id": "95419091",
      "metadata": {
        "id": "95419091"
      },
      "source": [
        "## What is a Python Object?"
      ]
    },
    {
      "cell_type": "code",
      "execution_count": 3,
      "id": "38d0c5e2",
      "metadata": {
        "id": "38d0c5e2"
      },
      "outputs": [],
      "source": [
        "x = 2\n"
      ]
    },
    {
      "cell_type": "code",
      "execution_count": 4,
      "id": "29138b15",
      "metadata": {
        "id": "29138b15"
      },
      "outputs": [],
      "source": [
        "y = 7"
      ]
    },
    {
      "cell_type": "code",
      "execution_count": 5,
      "id": "895a1d1a",
      "metadata": {
        "id": "895a1d1a"
      },
      "outputs": [
        {
          "data": {
            "text/plain": [
              "9"
            ]
          },
          "execution_count": 5,
          "metadata": {},
          "output_type": "execute_result"
        }
      ],
      "source": [
        "x + y\n"
      ]
    },
    {
      "cell_type": "code",
      "execution_count": null,
      "id": "5f26f117",
      "metadata": {
        "id": "5f26f117"
      },
      "outputs": [],
      "source": [
        "#What are built-in functions?\n"
      ]
    },
    {
      "cell_type": "code",
      "execution_count": null,
      "id": "a35187dd",
      "metadata": {
        "id": "a35187dd"
      },
      "outputs": [],
      "source": [
        "#The print statement?\n",
        "\n",
        "\n",
        "#Difference between output and print statement.\n",
        "\n",
        "#What happens when you include a print statement next to the y object?"
      ]
    },
    {
      "cell_type": "code",
      "execution_count": null,
      "id": "18c4971c",
      "metadata": {
        "id": "18c4971c"
      },
      "outputs": [],
      "source": []
    },
    {
      "cell_type": "markdown",
      "id": "1004e67f",
      "metadata": {
        "id": "1004e67f"
      },
      "source": [
        "## Operators"
      ]
    },
    {
      "cell_type": "code",
      "execution_count": null,
      "id": "07abe276",
      "metadata": {
        "id": "07abe276"
      },
      "outputs": [],
      "source": [
        "#+\n"
      ]
    },
    {
      "cell_type": "code",
      "execution_count": null,
      "id": "06bd8490",
      "metadata": {
        "id": "06bd8490"
      },
      "outputs": [],
      "source": [
        "#-\n"
      ]
    },
    {
      "cell_type": "code",
      "execution_count": null,
      "id": "340c0445",
      "metadata": {
        "id": "340c0445"
      },
      "outputs": [],
      "source": [
        "\n",
        "#*"
      ]
    },
    {
      "cell_type": "code",
      "execution_count": null,
      "id": "048c8c4f",
      "metadata": {
        "id": "048c8c4f"
      },
      "outputs": [],
      "source": [
        "\n",
        "#/"
      ]
    },
    {
      "cell_type": "code",
      "execution_count": null,
      "id": "4c0b8762",
      "metadata": {
        "id": "4c0b8762"
      },
      "outputs": [],
      "source": [
        "\n",
        "# **"
      ]
    },
    {
      "cell_type": "code",
      "execution_count": null,
      "id": "c75db545",
      "metadata": {
        "id": "c75db545"
      },
      "outputs": [],
      "source": [
        "#//"
      ]
    },
    {
      "cell_type": "code",
      "execution_count": null,
      "id": "72272e4f",
      "metadata": {
        "id": "72272e4f"
      },
      "outputs": [],
      "source": [
        "\n",
        "#%"
      ]
    },
    {
      "cell_type": "markdown",
      "id": "a716ff76",
      "metadata": {
        "id": "a716ff76"
      },
      "source": [
        "## Booleans"
      ]
    },
    {
      "cell_type": "code",
      "execution_count": null,
      "id": "f0072660",
      "metadata": {
        "id": "f0072660"
      },
      "outputs": [],
      "source": []
    },
    {
      "cell_type": "markdown",
      "id": "c86409be",
      "metadata": {
        "id": "c86409be"
      },
      "source": [
        "## Error Codes\n",
        "(...or How I learned to love my mistakes)"
      ]
    },
    {
      "cell_type": "code",
      "execution_count": 6,
      "id": "85c73a82",
      "metadata": {
        "id": "85c73a82"
      },
      "outputs": [
        {
          "data": {
            "text/plain": [
              "'the number three'"
            ]
          },
          "execution_count": 6,
          "metadata": {},
          "output_type": "execute_result"
        }
      ],
      "source": [
        "z = \"the number three\"\n",
        "z"
      ]
    },
    {
      "cell_type": "code",
      "execution_count": 7,
      "id": "a04ac3b8",
      "metadata": {
        "id": "a04ac3b8"
      },
      "outputs": [
        {
          "data": {
            "text/plain": [
              "str"
            ]
          },
          "execution_count": 7,
          "metadata": {},
          "output_type": "execute_result"
        }
      ],
      "source": [
        "type(z)"
      ]
    },
    {
      "cell_type": "code",
      "execution_count": 12,
      "id": "565b2c8b",
      "metadata": {
        "id": "565b2c8b"
      },
      "outputs": [
        {
          "data": {
            "text/plain": [
              "2"
            ]
          },
          "execution_count": 12,
          "metadata": {},
          "output_type": "execute_result"
        }
      ],
      "source": [
        "#You're gonna get a lot of errors while you're learning to code, and that's okay!\n",
        "x + 0\n"
      ]
    },
    {
      "cell_type": "code",
      "execution_count": null,
      "id": "3db0dd1b",
      "metadata": {
        "id": "3db0dd1b"
      },
      "outputs": [],
      "source": [
        "((x + y)"
      ]
    },
    {
      "cell_type": "code",
      "execution_count": null,
      "id": "81a376f6",
      "metadata": {
        "id": "81a376f6"
      },
      "outputs": [],
      "source": [
        "df"
      ]
    },
    {
      "cell_type": "markdown",
      "id": "6b4466bd",
      "metadata": {
        "id": "6b4466bd"
      },
      "source": [
        "## Data Types"
      ]
    },
    {
      "cell_type": "code",
      "execution_count": null,
      "id": "b5c6826e",
      "metadata": {
        "id": "b5c6826e"
      },
      "outputs": [],
      "source": [
        "#integers\n",
        "\n",
        "#floats\n",
        "\n",
        "#strings"
      ]
    },
    {
      "cell_type": "markdown",
      "id": "4c9a120c",
      "metadata": {
        "id": "4c9a120c"
      },
      "source": [
        "#### Lists\n",
        "Used to store multiple items in a single variable. List items are ordered (indexed), changeable, and allow duplicate values."
      ]
    },
    {
      "cell_type": "code",
      "execution_count": null,
      "id": "616b951a",
      "metadata": {
        "id": "616b951a"
      },
      "outputs": [],
      "source": [
        "season_list = 'fall', 'winter', 'summer', 'spring'\n",
        "season_list"
      ]
    },
    {
      "cell_type": "code",
      "execution_count": null,
      "id": "b4c68f7d",
      "metadata": {
        "id": "b4c68f7d"
      },
      "outputs": [],
      "source": [
        "season_list = 'fall', 'winter', 'summer', 'spring', 'spring'\n",
        "season_list"
      ]
    },
    {
      "cell_type": "markdown",
      "id": "1ab4a2f1",
      "metadata": {
        "id": "1ab4a2f1"
      },
      "source": [
        "#### Sets\n",
        "Sets are unordered, unchangeable and unindexed."
      ]
    },
    {
      "cell_type": "code",
      "execution_count": 13,
      "id": "f52fc965",
      "metadata": {
        "id": "f52fc965"
      },
      "outputs": [
        {
          "data": {
            "text/plain": [
              "('fall', 'winter', 'summer', 'spring')"
            ]
          },
          "execution_count": 13,
          "metadata": {},
          "output_type": "execute_result"
        }
      ],
      "source": [
        "season_set = 'fall', 'winter', 'summer', 'spring'\n",
        "season_set"
      ]
    },
    {
      "cell_type": "code",
      "execution_count": 14,
      "id": "11e5c146",
      "metadata": {
        "id": "11e5c146"
      },
      "outputs": [
        {
          "data": {
            "text/plain": [
              "('summer', 'fall', 'winter', 'spring', 'spring')"
            ]
          },
          "execution_count": 14,
          "metadata": {},
          "output_type": "execute_result"
        }
      ],
      "source": [
        "season_set = 'summer', 'fall', 'winter',  'spring', 'spring'\n",
        "\n",
        "season_set"
      ]
    },
    {
      "cell_type": "markdown",
      "id": "147b257b",
      "metadata": {
        "id": "147b257b"
      },
      "source": [
        "#### Tuples\n",
        "Tuple items are ordered, unchangeable, and allow duplicate values."
      ]
    },
    {
      "cell_type": "code",
      "execution_count": 15,
      "id": "5c5b06a3",
      "metadata": {
        "id": "5c5b06a3"
      },
      "outputs": [
        {
          "data": {
            "text/plain": [
              "('fall', 'winter', 'summer', 'spring', 'spring')"
            ]
          },
          "execution_count": 15,
          "metadata": {},
          "output_type": "execute_result"
        }
      ],
      "source": [
        "season_tuple = 'fall', 'winter', 'summer', 'spring', 'spring'\n",
        "season_tuple"
      ]
    },
    {
      "cell_type": "code",
      "execution_count": 16,
      "id": "bb93a8fa",
      "metadata": {
        "id": "bb93a8fa"
      },
      "outputs": [
        {
          "data": {
            "text/plain": [
              "('fall', 'winter', 'summer', 'spring', 'spring')"
            ]
          },
          "execution_count": 16,
          "metadata": {},
          "output_type": "execute_result"
        }
      ],
      "source": [
        "season_tuple"
      ]
    },
    {
      "cell_type": "markdown",
      "id": "fc042d03",
      "metadata": {
        "id": "fc042d03"
      },
      "source": [
        "**Tuple Unpacking**"
      ]
    },
    {
      "cell_type": "code",
      "execution_count": 17,
      "id": "626ac6d1",
      "metadata": {
        "id": "626ac6d1"
      },
      "outputs": [
        {
          "data": {
            "text/plain": [
              "'fall'"
            ]
          },
          "execution_count": 17,
          "metadata": {},
          "output_type": "execute_result"
        }
      ],
      "source": [
        "season1, season2, season3, season4, season5 = season_tuple\n",
        "season1"
      ]
    },
    {
      "cell_type": "markdown",
      "id": "a15eddf3",
      "metadata": {
        "id": "a15eddf3"
      },
      "source": [
        "#### Dictionaries\n",
        "\n",
        "Dictionaries store values in key:value pairs. The are ordered, changeable and do not allow duplicates."
      ]
    },
    {
      "cell_type": "code",
      "execution_count": 19,
      "id": "ef36c64f",
      "metadata": {
        "id": "ef36c64f"
      },
      "outputs": [
        {
          "data": {
            "text/plain": [
              "{'winter': 'cold', 'summer': 'hot', 'fall': 'colorful'}"
            ]
          },
          "execution_count": 19,
          "metadata": {},
          "output_type": "execute_result"
        }
      ],
      "source": [
        "\n",
        "season_dict = {\"winter\" : 'cold', 'summer' : 'hot', 'fall' : 'colorful'}\n",
        "season_dict"
      ]
    },
    {
      "cell_type": "code",
      "execution_count": 20,
      "id": "fa951fa6",
      "metadata": {
        "id": "fa951fa6"
      },
      "outputs": [
        {
          "data": {
            "text/plain": [
              "{'winter': 'cold', 'summer': 'humid', 'fall': 'colorful'}"
            ]
          },
          "execution_count": 20,
          "metadata": {},
          "output_type": "execute_result"
        }
      ],
      "source": [
        "season_dict = {\"winter\" : 'cold', 'summer' : 'hot', 'fall' : 'colorful', 'summer': 'humid'}\n",
        "season_dict"
      ]
    },
    {
      "cell_type": "code",
      "execution_count": null,
      "id": "623c8cad",
      "metadata": {
        "id": "623c8cad"
      },
      "outputs": [],
      "source": []
    },
    {
      "cell_type": "markdown",
      "id": "fd236ec6",
      "metadata": {
        "id": "fd236ec6"
      },
      "source": [
        "## Object Methods and How To Use Them\n",
        "Use those keyboard shortcuts! <br>\n",
        "Jupyter Notebook -> Tab after period<br>\n",
        "Colab -> Cursor hover after period"
      ]
    },
    {
      "cell_type": "code",
      "execution_count": null,
      "id": "b482c3cc",
      "metadata": {
        "id": "b482c3cc"
      },
      "outputs": [],
      "source": [
        "#some changes happen in place\n",
        "#pop\n"
      ]
    },
    {
      "cell_type": "code",
      "execution_count": null,
      "id": "66879b10",
      "metadata": {
        "id": "66879b10"
      },
      "outputs": [],
      "source": [
        "#keys"
      ]
    },
    {
      "cell_type": "code",
      "execution_count": null,
      "id": "cbb7f5d6",
      "metadata": {
        "id": "cbb7f5d6"
      },
      "outputs": [],
      "source": [
        "#pop"
      ]
    },
    {
      "cell_type": "code",
      "execution_count": null,
      "id": "78715f59",
      "metadata": {
        "id": "78715f59"
      },
      "outputs": [],
      "source": [
        "\n",
        "#clear"
      ]
    },
    {
      "cell_type": "markdown",
      "id": "22b240e0",
      "metadata": {
        "id": "22b240e0"
      },
      "source": [
        "## Indexing"
      ]
    },
    {
      "cell_type": "code",
      "execution_count": null,
      "id": "080082e3",
      "metadata": {
        "id": "080082e3"
      },
      "outputs": [],
      "source": [
        "season_list"
      ]
    },
    {
      "cell_type": "code",
      "execution_count": null,
      "id": "7e875866",
      "metadata": {
        "id": "7e875866"
      },
      "outputs": [],
      "source": []
    },
    {
      "cell_type": "code",
      "execution_count": null,
      "id": "f2c41baf",
      "metadata": {
        "id": "f2c41baf"
      },
      "outputs": [],
      "source": []
    },
    {
      "cell_type": "markdown",
      "id": "b2fa83ab",
      "metadata": {
        "id": "b2fa83ab"
      },
      "source": [
        "## Loops"
      ]
    },
    {
      "cell_type": "code",
      "execution_count": null,
      "id": "acfcd571",
      "metadata": {
        "id": "acfcd571"
      },
      "outputs": [],
      "source": []
    },
    {
      "cell_type": "code",
      "execution_count": null,
      "id": "43676f14",
      "metadata": {
        "id": "43676f14"
      },
      "outputs": [],
      "source": []
    },
    {
      "cell_type": "markdown",
      "id": "d4bf496b",
      "metadata": {
        "id": "d4bf496b"
      },
      "source": [
        "## Conditionals"
      ]
    },
    {
      "cell_type": "code",
      "execution_count": null,
      "id": "55f747e6",
      "metadata": {
        "id": "55f747e6"
      },
      "outputs": [],
      "source": [
        "y"
      ]
    },
    {
      "cell_type": "code",
      "execution_count": null,
      "id": "7a35dd0c",
      "metadata": {
        "id": "7a35dd0c"
      },
      "outputs": [],
      "source": []
    },
    {
      "cell_type": "code",
      "execution_count": null,
      "id": "ca05f1b2",
      "metadata": {
        "id": "ca05f1b2"
      },
      "outputs": [],
      "source": []
    },
    {
      "cell_type": "code",
      "execution_count": null,
      "id": "216654a2",
      "metadata": {
        "id": "216654a2"
      },
      "outputs": [],
      "source": []
    },
    {
      "cell_type": "code",
      "execution_count": null,
      "id": "c67825b1",
      "metadata": {
        "id": "c67825b1"
      },
      "outputs": [],
      "source": [
        "#create empty lists\n"
      ]
    },
    {
      "cell_type": "code",
      "execution_count": null,
      "id": "5dcdb611",
      "metadata": {
        "id": "5dcdb611"
      },
      "outputs": [],
      "source": []
    },
    {
      "cell_type": "code",
      "execution_count": null,
      "id": "02770b1e",
      "metadata": {
        "id": "02770b1e"
      },
      "outputs": [],
      "source": []
    },
    {
      "cell_type": "markdown",
      "id": "3767aa2d",
      "metadata": {
        "id": "3767aa2d"
      },
      "source": [
        "## Imports"
      ]
    },
    {
      "cell_type": "code",
      "execution_count": null,
      "id": "81be78ca",
      "metadata": {
        "id": "81be78ca"
      },
      "outputs": [],
      "source": [
        "\n"
      ]
    },
    {
      "cell_type": "markdown",
      "id": "bcc9d485",
      "metadata": {
        "id": "bcc9d485"
      },
      "source": [
        "The most popular data science libraries are numpy, pandas and matplotlib (for visualizations)"
      ]
    },
    {
      "cell_type": "code",
      "execution_count": null,
      "id": "5a21459d",
      "metadata": {
        "id": "5a21459d"
      },
      "outputs": [],
      "source": [
        "#import pandas as pd\n"
      ]
    },
    {
      "cell_type": "code",
      "execution_count": null,
      "id": "e004ea6b",
      "metadata": {
        "id": "e004ea6b"
      },
      "outputs": [],
      "source": []
    },
    {
      "cell_type": "code",
      "execution_count": null,
      "id": "196fc5bb",
      "metadata": {
        "id": "196fc5bb"
      },
      "outputs": [],
      "source": []
    },
    {
      "cell_type": "code",
      "execution_count": null,
      "id": "1580756e",
      "metadata": {
        "id": "1580756e"
      },
      "outputs": [],
      "source": []
    },
    {
      "cell_type": "code",
      "execution_count": null,
      "id": "59b1874c",
      "metadata": {
        "id": "59b1874c"
      },
      "outputs": [],
      "source": []
    },
    {
      "cell_type": "code",
      "execution_count": null,
      "id": "d2c6693e",
      "metadata": {
        "id": "d2c6693e"
      },
      "outputs": [],
      "source": []
    },
    {
      "cell_type": "code",
      "execution_count": null,
      "id": "4813e8e5",
      "metadata": {
        "id": "4813e8e5"
      },
      "outputs": [],
      "source": []
    }
  ],
  "metadata": {
    "colab": {
      "provenance": []
    },
    "kernelspec": {
      "display_name": "Python 3",
      "language": "python",
      "name": "python3"
    },
    "language_info": {
      "codemirror_mode": {
        "name": "ipython",
        "version": 3
      },
      "file_extension": ".py",
      "mimetype": "text/x-python",
      "name": "python",
      "nbconvert_exporter": "python",
      "pygments_lexer": "ipython3",
      "version": "3.11.7"
    }
  },
  "nbformat": 4,
  "nbformat_minor": 5
}
